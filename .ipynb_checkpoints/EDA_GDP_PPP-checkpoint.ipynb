{
 "cells": [
  {
   "cell_type": "markdown",
   "id": "67abb8f8",
   "metadata": {},
   "source": [
    "## Exploring GDP per Capita Based on Purchasing Power Parity (PPP) Across Countries\n",
    "\n",
    "The dataset used in this analysis was downloaded from Kaggle. This dataset provides information on the Gross Domestic Product (GDP) of various countries, measured based on Purchasing Power Parity (PPP). GDP per capita is a commonly used economic indicator that reflects the average wealth or income of individuals in a country. By considering the PPP, this dataset offers a more accurate comparison of economic well-being among different nations, as it accounts for the differences in the cost of living and currency exchange rates. The dataset is a valuable resource for analyzing and understanding the economic landscape across countries.\n",
    "\n",
    "URL: https://www.kaggle.com/datasets/nitishabharathi/gdp-per-capita-all-countries."
   ]
  },
  {
   "cell_type": "markdown",
   "id": "af14e1a1",
   "metadata": {},
   "source": []
  },
  {
   "cell_type": "code",
   "execution_count": 1,
   "id": "0ba9a8c1",
   "metadata": {},
   "outputs": [],
   "source": [
    "#Import the necessary libraries\n",
    "import pandas as pd"
   ]
  },
  {
   "cell_type": "code",
   "execution_count": 2,
   "id": "40abe405",
   "metadata": {},
   "outputs": [],
   "source": [
    "#Load the CSV file into a pandas DataFrame\n",
    "df = pd.read_csv('GDP.csv', encoding='latin1')"
   ]
  },
  {
   "cell_type": "code",
   "execution_count": 3,
   "id": "26ecbf21",
   "metadata": {},
   "outputs": [
    {
     "data": {
      "text/html": [
       "<div>\n",
       "<style scoped>\n",
       "    .dataframe tbody tr th:only-of-type {\n",
       "        vertical-align: middle;\n",
       "    }\n",
       "\n",
       "    .dataframe tbody tr th {\n",
       "        vertical-align: top;\n",
       "    }\n",
       "\n",
       "    .dataframe thead th {\n",
       "        text-align: right;\n",
       "    }\n",
       "</style>\n",
       "<table border=\"1\" class=\"dataframe\">\n",
       "  <thead>\n",
       "    <tr style=\"text-align: right;\">\n",
       "      <th></th>\n",
       "      <th>Country</th>\n",
       "      <th>Country Code</th>\n",
       "      <th>1990</th>\n",
       "      <th>1991</th>\n",
       "      <th>1992</th>\n",
       "      <th>1993</th>\n",
       "      <th>1994</th>\n",
       "      <th>1995</th>\n",
       "      <th>1996</th>\n",
       "      <th>1997</th>\n",
       "      <th>...</th>\n",
       "      <th>2010</th>\n",
       "      <th>2011</th>\n",
       "      <th>2012</th>\n",
       "      <th>2013</th>\n",
       "      <th>2014</th>\n",
       "      <th>2015</th>\n",
       "      <th>2016</th>\n",
       "      <th>2017</th>\n",
       "      <th>2018</th>\n",
       "      <th>2019</th>\n",
       "    </tr>\n",
       "  </thead>\n",
       "  <tbody>\n",
       "    <tr>\n",
       "      <th>0</th>\n",
       "      <td>Aruba</td>\n",
       "      <td>ABW</td>\n",
       "      <td>24101.109430</td>\n",
       "      <td>25870.755940</td>\n",
       "      <td>26533.343900</td>\n",
       "      <td>27430.752400</td>\n",
       "      <td>28656.520210</td>\n",
       "      <td>28648.990020</td>\n",
       "      <td>28499.089430</td>\n",
       "      <td>30215.949230</td>\n",
       "      <td>...</td>\n",
       "      <td>33732.847450</td>\n",
       "      <td>35492.618490</td>\n",
       "      <td>35498.982090</td>\n",
       "      <td>37419.892820</td>\n",
       "      <td>38223.372260</td>\n",
       "      <td>38249.054870</td>\n",
       "      <td>38390.271650</td>\n",
       "      <td>39454.629830</td>\n",
       "      <td>NaN</td>\n",
       "      <td>NaN</td>\n",
       "    </tr>\n",
       "    <tr>\n",
       "      <th>1</th>\n",
       "      <td>Afghanistan</td>\n",
       "      <td>AFG</td>\n",
       "      <td>NaN</td>\n",
       "      <td>NaN</td>\n",
       "      <td>NaN</td>\n",
       "      <td>NaN</td>\n",
       "      <td>NaN</td>\n",
       "      <td>NaN</td>\n",
       "      <td>NaN</td>\n",
       "      <td>NaN</td>\n",
       "      <td>...</td>\n",
       "      <td>1637.377987</td>\n",
       "      <td>1626.764793</td>\n",
       "      <td>1806.763930</td>\n",
       "      <td>1874.765634</td>\n",
       "      <td>1897.525938</td>\n",
       "      <td>1886.692977</td>\n",
       "      <td>1896.992520</td>\n",
       "      <td>1934.636754</td>\n",
       "      <td>1955.006208</td>\n",
       "      <td>NaN</td>\n",
       "    </tr>\n",
       "    <tr>\n",
       "      <th>2</th>\n",
       "      <td>Angola</td>\n",
       "      <td>AGO</td>\n",
       "      <td>3089.683369</td>\n",
       "      <td>3120.356148</td>\n",
       "      <td>2908.160798</td>\n",
       "      <td>2190.768160</td>\n",
       "      <td>2195.532289</td>\n",
       "      <td>2496.199493</td>\n",
       "      <td>2794.896906</td>\n",
       "      <td>2953.342709</td>\n",
       "      <td>...</td>\n",
       "      <td>6230.297028</td>\n",
       "      <td>6346.395122</td>\n",
       "      <td>6772.528333</td>\n",
       "      <td>6980.423038</td>\n",
       "      <td>7199.245478</td>\n",
       "      <td>7096.600615</td>\n",
       "      <td>6756.935074</td>\n",
       "      <td>6650.584940</td>\n",
       "      <td>6452.355165</td>\n",
       "      <td>NaN</td>\n",
       "    </tr>\n",
       "    <tr>\n",
       "      <th>3</th>\n",
       "      <td>Albania</td>\n",
       "      <td>ALB</td>\n",
       "      <td>2549.473022</td>\n",
       "      <td>1909.114038</td>\n",
       "      <td>1823.307673</td>\n",
       "      <td>2057.449657</td>\n",
       "      <td>2289.873135</td>\n",
       "      <td>2665.764906</td>\n",
       "      <td>2980.066288</td>\n",
       "      <td>2717.362124</td>\n",
       "      <td>...</td>\n",
       "      <td>9628.025783</td>\n",
       "      <td>10207.752350</td>\n",
       "      <td>10526.235450</td>\n",
       "      <td>10571.010650</td>\n",
       "      <td>11259.225890</td>\n",
       "      <td>11662.030480</td>\n",
       "      <td>11868.178970</td>\n",
       "      <td>12930.140030</td>\n",
       "      <td>13364.155400</td>\n",
       "      <td>NaN</td>\n",
       "    </tr>\n",
       "    <tr>\n",
       "      <th>4</th>\n",
       "      <td>Arab World</td>\n",
       "      <td>ARB</td>\n",
       "      <td>6808.206995</td>\n",
       "      <td>6872.273195</td>\n",
       "      <td>7255.328362</td>\n",
       "      <td>7458.647059</td>\n",
       "      <td>7645.682856</td>\n",
       "      <td>7774.207360</td>\n",
       "      <td>8094.149842</td>\n",
       "      <td>8397.515692</td>\n",
       "      <td>...</td>\n",
       "      <td>14127.778020</td>\n",
       "      <td>14518.827450</td>\n",
       "      <td>15423.465390</td>\n",
       "      <td>15824.780110</td>\n",
       "      <td>16153.244860</td>\n",
       "      <td>16501.792590</td>\n",
       "      <td>16935.383300</td>\n",
       "      <td>17099.889390</td>\n",
       "      <td>17570.137600</td>\n",
       "      <td>NaN</td>\n",
       "    </tr>\n",
       "  </tbody>\n",
       "</table>\n",
       "<p>5 rows × 32 columns</p>\n",
       "</div>"
      ],
      "text/plain": [
       "      Country  Country Code          1990          1991          1992  \\\n",
       "0        Aruba          ABW  24101.109430  25870.755940  26533.343900   \n",
       "1  Afghanistan          AFG           NaN           NaN           NaN   \n",
       "2       Angola          AGO   3089.683369   3120.356148   2908.160798   \n",
       "3      Albania          ALB   2549.473022   1909.114038   1823.307673   \n",
       "4   Arab World          ARB   6808.206995   6872.273195   7255.328362   \n",
       "\n",
       "           1993          1994          1995          1996          1997  ...  \\\n",
       "0  27430.752400  28656.520210  28648.990020  28499.089430  30215.949230  ...   \n",
       "1           NaN           NaN           NaN           NaN           NaN  ...   \n",
       "2   2190.768160   2195.532289   2496.199493   2794.896906   2953.342709  ...   \n",
       "3   2057.449657   2289.873135   2665.764906   2980.066288   2717.362124  ...   \n",
       "4   7458.647059   7645.682856   7774.207360   8094.149842   8397.515692  ...   \n",
       "\n",
       "           2010          2011          2012          2013          2014  \\\n",
       "0  33732.847450  35492.618490  35498.982090  37419.892820  38223.372260   \n",
       "1   1637.377987   1626.764793   1806.763930   1874.765634   1897.525938   \n",
       "2   6230.297028   6346.395122   6772.528333   6980.423038   7199.245478   \n",
       "3   9628.025783  10207.752350  10526.235450  10571.010650  11259.225890   \n",
       "4  14127.778020  14518.827450  15423.465390  15824.780110  16153.244860   \n",
       "\n",
       "           2015          2016          2017          2018  2019  \n",
       "0  38249.054870  38390.271650  39454.629830           NaN   NaN  \n",
       "1   1886.692977   1896.992520   1934.636754   1955.006208   NaN  \n",
       "2   7096.600615   6756.935074   6650.584940   6452.355165   NaN  \n",
       "3  11662.030480  11868.178970  12930.140030  13364.155400   NaN  \n",
       "4  16501.792590  16935.383300  17099.889390  17570.137600   NaN  \n",
       "\n",
       "[5 rows x 32 columns]"
      ]
     },
     "execution_count": 3,
     "metadata": {},
     "output_type": "execute_result"
    }
   ],
   "source": [
    "df.head()"
   ]
  },
  {
   "cell_type": "code",
   "execution_count": 18,
   "id": "67269d8f",
   "metadata": {},
   "outputs": [
    {
     "data": {
      "text/plain": [
       "260"
      ]
     },
     "execution_count": 18,
     "metadata": {},
     "output_type": "execute_result"
    }
   ],
   "source": [
    "# check how many row are in Country Column\n",
    "df.shape[0]"
   ]
  },
  {
   "cell_type": "code",
   "execution_count": 22,
   "id": "ec4c43fa",
   "metadata": {},
   "outputs": [
    {
     "data": {
      "text/plain": [
       "False"
      ]
     },
     "execution_count": 22,
     "metadata": {},
     "output_type": "execute_result"
    }
   ],
   "source": [
    "# Dupicate in Country column\n",
    "df['Country '].duplicated().any()"
   ]
  },
  {
   "cell_type": "code",
   "execution_count": 23,
   "id": "18e41ae2",
   "metadata": {},
   "outputs": [
    {
     "data": {
      "text/plain": [
       "True"
      ]
     },
     "execution_count": 23,
     "metadata": {},
     "output_type": "execute_result"
    }
   ],
   "source": [
    "# Another way to confirm that is there any duplicates\n",
    "df['Country '].is_unique"
   ]
  },
  {
   "cell_type": "code",
   "execution_count": null,
   "id": "2e49a9dc",
   "metadata": {},
   "outputs": [],
   "source": []
  },
  {
   "cell_type": "code",
   "execution_count": null,
   "id": "295577c1",
   "metadata": {},
   "outputs": [],
   "source": []
  },
  {
   "cell_type": "code",
   "execution_count": null,
   "id": "4792b4f5",
   "metadata": {},
   "outputs": [],
   "source": []
  },
  {
   "cell_type": "code",
   "execution_count": 4,
   "id": "10176959",
   "metadata": {},
   "outputs": [
    {
     "name": "stdout",
     "output_type": "stream",
     "text": [
      "['Country ', 'Country Code', '1990', '1991', '1992', '1993', '1994', '1995', '1996', '1997', '1998', '1999', '2000', '2001', '2002', '2003', '2004', '2005', '2006', '2007', '2008', '2009', '2010', '2011', '2012', '2013', '2014', '2015', '2016', '2017', '2018', '2019']\n"
     ]
    }
   ],
   "source": [
    "#Get the columns name\n",
    "column_names = df.columns.tolist()\n",
    "print(column_names)"
   ]
  },
  {
   "cell_type": "code",
   "execution_count": 8,
   "id": "274219f7",
   "metadata": {},
   "outputs": [
    {
     "data": {
      "text/plain": [
       "Index(['1990', '1991', '1992', '1993', '1994', '1995', '1996', '1997', '1998',\n",
       "       '1999', '2000', '2001', '2002', '2003', '2004', '2005', '2006', '2007',\n",
       "       '2008', '2009', '2010', '2011', '2012', '2013', '2014', '2015', '2016',\n",
       "       '2017', '2018', '2019'],\n",
       "      dtype='object')"
      ]
     },
     "execution_count": 8,
     "metadata": {},
     "output_type": "execute_result"
    }
   ],
   "source": [
    "#For getting Columns having at least 1 null value (column names)\n",
    "df.columns[df.isnull().any()]"
   ]
  },
  {
   "cell_type": "code",
   "execution_count": 9,
   "id": "88dd44ba",
   "metadata": {},
   "outputs": [
    {
     "data": {
      "text/plain": [
       "1990     51\n",
       "1991     49\n",
       "1992     47\n",
       "1993     45\n",
       "1994     42\n",
       "1995     36\n",
       "1996     36\n",
       "1997     35\n",
       "1998     34\n",
       "1999     33\n",
       "2000     24\n",
       "2001     23\n",
       "2002     22\n",
       "2003     22\n",
       "2004     22\n",
       "2005     22\n",
       "2006     22\n",
       "2007     21\n",
       "2008     20\n",
       "2009     19\n",
       "2010     19\n",
       "2011     17\n",
       "2012     19\n",
       "2013     19\n",
       "2014     20\n",
       "2015     22\n",
       "2016     22\n",
       "2017     22\n",
       "2018     29\n",
       "2019    260\n",
       "dtype: int64"
      ]
     },
     "execution_count": 9,
     "metadata": {},
     "output_type": "execute_result"
    }
   ],
   "source": [
    "# For getting Columns with count, with having at least 1 null value.\n",
    "df[df.columns[df.isnull().any()]].isnull().sum()"
   ]
  },
  {
   "cell_type": "code",
   "execution_count": 10,
   "id": "fea53d6a",
   "metadata": {},
   "outputs": [
    {
     "data": {
      "text/plain": [
       "1990     19.615385\n",
       "1991     18.846154\n",
       "1992     18.076923\n",
       "1993     17.307692\n",
       "1994     16.153846\n",
       "1995     13.846154\n",
       "1996     13.846154\n",
       "1997     13.461538\n",
       "1998     13.076923\n",
       "1999     12.692308\n",
       "2000      9.230769\n",
       "2001      8.846154\n",
       "2002      8.461538\n",
       "2003      8.461538\n",
       "2004      8.461538\n",
       "2005      8.461538\n",
       "2006      8.461538\n",
       "2007      8.076923\n",
       "2008      7.692308\n",
       "2009      7.307692\n",
       "2010      7.307692\n",
       "2011      6.538462\n",
       "2012      7.307692\n",
       "2013      7.307692\n",
       "2014      7.692308\n",
       "2015      8.461538\n",
       "2016      8.461538\n",
       "2017      8.461538\n",
       "2018     11.153846\n",
       "2019    100.000000\n",
       "dtype: float64"
      ]
     },
     "execution_count": 10,
     "metadata": {},
     "output_type": "execute_result"
    }
   ],
   "source": [
    "# For getting percentage of the null count.\n",
    "df[df.columns[df.isnull().any()]].isnull().sum() * 100 / df.shape[0]"
   ]
  },
  {
   "cell_type": "code",
   "execution_count": null,
   "id": "9fd61c46",
   "metadata": {},
   "outputs": [],
   "source": []
  }
 ],
 "metadata": {
  "kernelspec": {
   "display_name": "Python 3 (ipykernel)",
   "language": "python",
   "name": "python3"
  },
  "language_info": {
   "codemirror_mode": {
    "name": "ipython",
    "version": 3
   },
   "file_extension": ".py",
   "mimetype": "text/x-python",
   "name": "python",
   "nbconvert_exporter": "python",
   "pygments_lexer": "ipython3",
   "version": "3.9.13"
  }
 },
 "nbformat": 4,
 "nbformat_minor": 5
}
